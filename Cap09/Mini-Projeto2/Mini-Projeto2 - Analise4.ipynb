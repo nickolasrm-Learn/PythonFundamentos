{
 "cells": [
  {
   "cell_type": "markdown",
   "metadata": {
    "collapsed": true
   },
   "source": [
    "# <font color='blue'>Data Science Academy - Python Fundamentos - Capítulo 9</font>\n",
    "\n",
    "## Download: http://github.com/dsacademybr\n",
    "\n",
    "## Mini-Projeto 2 - Análise Exploratória em Conjunto de Dados do Kaggle\n",
    "\n",
    "## Análise 4"
   ]
  },
  {
   "cell_type": "code",
   "execution_count": 1,
   "metadata": {},
   "outputs": [],
   "source": [
    "# Imports\n",
    "import os\n",
    "import subprocess\n",
    "import stat\n",
    "import numpy as np\n",
    "import pandas as pd\n",
    "import seaborn as sns\n",
    "import matplotlib.pyplot as plt\n",
    "from datetime import datetime\n",
    "sns.set(style = \"white\")\n",
    "%matplotlib inline"
   ]
  },
  {
   "cell_type": "code",
   "execution_count": 3,
   "metadata": {},
   "outputs": [
    {
     "name": "stdout",
     "output_type": "stream",
     "text": [
      "<class 'pandas.core.frame.DataFrame'>\n",
      "RangeIndex: 313687 entries, 0 to 313686\n",
      "Data columns (total 27 columns):\n",
      " #   Column               Non-Null Count   Dtype \n",
      "---  ------               --------------   ----- \n",
      " 0   dateCrawled          313687 non-null  object\n",
      " 1   name                 313687 non-null  object\n",
      " 2   seller               313687 non-null  object\n",
      " 3   offerType            313687 non-null  object\n",
      " 4   price                313687 non-null  int64 \n",
      " 5   abtest               313687 non-null  object\n",
      " 6   vehicleType          313687 non-null  object\n",
      " 7   yearOfRegistration   313687 non-null  int64 \n",
      " 8   gearbox              313687 non-null  object\n",
      " 9   powerPS              313687 non-null  int64 \n",
      " 10  model                313687 non-null  object\n",
      " 11  kilometer            313687 non-null  int64 \n",
      " 12  monthOfRegistration  313687 non-null  object\n",
      " 13  fuelType             313498 non-null  object\n",
      " 14  brand                313687 non-null  object\n",
      " 15  notRepairedDamage    313687 non-null  object\n",
      " 16  dateCreated          313687 non-null  object\n",
      " 17  postalCode           313687 non-null  int64 \n",
      " 18  lastSeen             313687 non-null  object\n",
      " 19  yearOfCreation       313687 non-null  int64 \n",
      " 20  yearCrawled          313687 non-null  int64 \n",
      " 21  monthOfCreation      313687 non-null  object\n",
      " 22  monthCrawled         313687 non-null  object\n",
      " 23  NoOfDaysOnline       313687 non-null  int64 \n",
      " 24  NoOfHrsOnline        313687 non-null  int64 \n",
      " 25  yearsOld             313687 non-null  int64 \n",
      " 26  monthsOld            313687 non-null  int64 \n",
      "dtypes: int64(11), object(16)\n",
      "memory usage: 64.6+ MB\n"
     ]
    }
   ],
   "source": [
    "# Dataset\n",
    "clean_data_path = \"dataset/autos.csv\"\n",
    "df = pd.read_csv(clean_data_path,encoding = \"latin-1\")\n",
    "df.info()"
   ]
  },
  {
   "cell_type": "code",
   "execution_count": 33,
   "metadata": {},
   "outputs": [
    {
     "data": {
      "text/html": [
       "<div>\n",
       "<style scoped>\n",
       "    .dataframe tbody tr th:only-of-type {\n",
       "        vertical-align: middle;\n",
       "    }\n",
       "\n",
       "    .dataframe tbody tr th {\n",
       "        vertical-align: top;\n",
       "    }\n",
       "\n",
       "    .dataframe thead th {\n",
       "        text-align: right;\n",
       "    }\n",
       "</style>\n",
       "<table border=\"1\" class=\"dataframe\">\n",
       "  <thead>\n",
       "    <tr style=\"text-align: right;\">\n",
       "      <th></th>\n",
       "      <th>brand</th>\n",
       "      <th>vehicleType</th>\n",
       "      <th>avgPrice</th>\n",
       "    </tr>\n",
       "  </thead>\n",
       "  <tbody>\n",
       "    <tr>\n",
       "      <th>0</th>\n",
       "      <td>alfa_romeo</td>\n",
       "      <td>Other</td>\n",
       "      <td>669.805556</td>\n",
       "    </tr>\n",
       "    <tr>\n",
       "      <th>1</th>\n",
       "      <td>alfa_romeo</td>\n",
       "      <td>andere</td>\n",
       "      <td>962.500000</td>\n",
       "    </tr>\n",
       "    <tr>\n",
       "      <th>2</th>\n",
       "      <td>alfa_romeo</td>\n",
       "      <td>cabrio</td>\n",
       "      <td>7035.727778</td>\n",
       "    </tr>\n",
       "    <tr>\n",
       "      <th>3</th>\n",
       "      <td>alfa_romeo</td>\n",
       "      <td>coupe</td>\n",
       "      <td>5265.458874</td>\n",
       "    </tr>\n",
       "    <tr>\n",
       "      <th>4</th>\n",
       "      <td>alfa_romeo</td>\n",
       "      <td>kleinwagen</td>\n",
       "      <td>1867.865248</td>\n",
       "    </tr>\n",
       "    <tr>\n",
       "      <th>...</th>\n",
       "      <td>...</td>\n",
       "      <td>...</td>\n",
       "      <td>...</td>\n",
       "    </tr>\n",
       "    <tr>\n",
       "      <th>328</th>\n",
       "      <td>volvo</td>\n",
       "      <td>coupe</td>\n",
       "      <td>5502.100000</td>\n",
       "    </tr>\n",
       "    <tr>\n",
       "      <th>329</th>\n",
       "      <td>volvo</td>\n",
       "      <td>kleinwagen</td>\n",
       "      <td>1475.000000</td>\n",
       "    </tr>\n",
       "    <tr>\n",
       "      <th>330</th>\n",
       "      <td>volvo</td>\n",
       "      <td>kombi</td>\n",
       "      <td>2789.709828</td>\n",
       "    </tr>\n",
       "    <tr>\n",
       "      <th>331</th>\n",
       "      <td>volvo</td>\n",
       "      <td>limousine</td>\n",
       "      <td>3768.010084</td>\n",
       "    </tr>\n",
       "    <tr>\n",
       "      <th>332</th>\n",
       "      <td>volvo</td>\n",
       "      <td>suv</td>\n",
       "      <td>14081.237918</td>\n",
       "    </tr>\n",
       "  </tbody>\n",
       "</table>\n",
       "<p>333 rows × 3 columns</p>\n",
       "</div>"
      ],
      "text/plain": [
       "          brand vehicleType      avgPrice\n",
       "0    alfa_romeo       Other    669.805556\n",
       "1    alfa_romeo      andere    962.500000\n",
       "2    alfa_romeo      cabrio   7035.727778\n",
       "3    alfa_romeo       coupe   5265.458874\n",
       "4    alfa_romeo  kleinwagen   1867.865248\n",
       "..          ...         ...           ...\n",
       "328       volvo       coupe   5502.100000\n",
       "329       volvo  kleinwagen   1475.000000\n",
       "330       volvo       kombi   2789.709828\n",
       "331       volvo   limousine   3768.010084\n",
       "332       volvo         suv  14081.237918\n",
       "\n",
       "[333 rows x 3 columns]"
      ]
     },
     "execution_count": 33,
     "metadata": {},
     "output_type": "execute_result"
    }
   ],
   "source": [
    "# Calcule a média de preço por marca e por veículo\n",
    "# Agrupa os veículos por marca e tipo do veículo\n",
    "group_brand_vehicle_type = df.groupby(['brand', 'vehicleType'])\n",
    "# Escolhe a coluna preço do agrupamento, faz a média de valores e desagrupa\n",
    "df_brand_vehicle_type_price_mean = group_brand_vehicle_type[['price']].mean().reset_index()\n",
    "# Renomeia price para avgPrice\n",
    "df_brand_vehicle_type_price_mean = df_brand_vehicle_type_price_mean.rename(columns={'price': 'avgPrice'})\n",
    "# Exibe a tabela\n",
    "df_brand_vehicle_type_price_mean"
   ]
  },
  {
   "cell_type": "markdown",
   "metadata": {},
   "source": [
    "## Preço médio de um veículo por marca, bem como tipo de veículo"
   ]
  },
  {
   "cell_type": "code",
   "execution_count": 30,
   "metadata": {},
   "outputs": [
    {
     "data": {
      "image/png": "[encoded data removed]",
      "text/plain": [
       "<Figure size 720x1440 with 2 Axes>"
      ]
     },
     "metadata": {
      "needs_background": "light"
     },
     "output_type": "display_data"
    }
   ],
   "source": [
    "# Crie um Heatmap com Preço médio de um veículo por marca, bem como tipo de veículo\n",
    "plt.figure(figsize=(10,20))\n",
    "# Cria uma tabela pivotada de marca, veículo por preço\n",
    "pivot = df_brand_vehicle_type_price_mean.pivot('brand', 'vehicleType', 'avgPrice')\n",
    "# Cria uma heatmap e armazena no plt\n",
    "sns.heatmap(data=pivot)\n",
    "# Altera rótulos do gráfico\n",
    "plt.xlabel('Tipo do veículo')\n",
    "plt.ylabel('Marca')\n",
    "plt.title('Mapa de preço médio por marca e tipo do veículo')\n",
    "# Captura a figura no plt\n",
    "fig = plt.gcf()\n",
    "# Mostra a figura\n",
    "plt.show()"
   ]
  },
  {
   "cell_type": "code",
   "execution_count": 34,
   "metadata": {},
   "outputs": [],
   "source": [
    "# Salvando o plot\n",
    "fig.savefig(\"plots/Analise4/heatmap-price-brand-vehicleType.png\")"
   ]
  },
  {
   "cell_type": "markdown",
   "metadata": {},
   "source": [
    "# Fim"
   ]
  },
  {
   "cell_type": "markdown",
   "metadata": {},
   "source": [
    "### Obrigado\n",
    "\n",
    "### Visite o Blog da Data Science Academy - <a href=\"http://blog.dsacademy.com.br\">Blog DSA</a>"
   ]
  }
 ],
 "metadata": {
  "anaconda-cloud": {},
  "kernelspec": {
   "display_name": "Python 3 (ipykernel)",
   "language": "python",
   "name": "python3"
  },
  "language_info": {
   "codemirror_mode": {
    "name": "ipython",
    "version": 3
   },
   "file_extension": ".py",
   "mimetype": "text/x-python",
   "name": "python",
   "nbconvert_exporter": "python",
   "pygments_lexer": "ipython3",
   "version": "3.9.7"
  }
 },
 "nbformat": 4,
 "nbformat_minor": 1
}
